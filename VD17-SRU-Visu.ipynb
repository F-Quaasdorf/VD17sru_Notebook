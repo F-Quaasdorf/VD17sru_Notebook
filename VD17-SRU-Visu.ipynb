{
 "cells": [
  {
   "cell_type": "markdown",
   "id": "928294e2",
   "metadata": {},
   "source": [
    "# SRU-Abfrage und Visualisierung von Daten aus dem VD17\n",
    "\n",
    "Das Verzeichnis der im deutschen Sprachraum erschienenen Drucke des 17. Jahrhunderts (VD17) ist der zentrale Katalog für historische Drucke des 17. Jahrhunderts in deutschen Einrichtungen. Die Datensätze können über die SRU-Schnittstelle abgefragt und ausgewertet werden. \n",
    "\n",
    "Dieses Tutorial stellt die Schnittstellenabfrage des VD17 via SRU vor und gibt einen Einblick in die Visualisierungsmöglichkeiten. Grundsätzlich ist dieses Notebook auf für den VD18-Katalog nutzbar.\n",
    "\n",
    "Codebasis ist die Script-Version, siehe https://github.com/F-Quaasdorf/VD17sru"
   ]
  },
  {
   "cell_type": "markdown",
   "id": "7a2eb499",
   "metadata": {},
   "source": [
    "# *Inhaltsverzeichnis*\n",
    "\n",
    "**I. SRU-Abfrage und Datengrundlage**\n",
    "1. Import der benötigten Module\n",
    "2. Schnittstellenabfrage\n",
    "3. Feldabfrage\n",
    "4. Umwandlung in DataFrame\n",
    "5. Ausführung und Datengrundlage\n",
    "\n",
    "**II. Visualisierung der Daten**\n",
    "1. Hilfsfunktion zur Konversion der Jahresangaben\n",
    "2. Visualisierung zu den haltenden Einrichtungen\n",
    "3. Visualisierung zu den Erscheinungsjahren\n",
    "4. Visualisierung zu den Sprachen\n",
    "5. Visualisierung zu den Sprachen nach Erschinungsjahren"
   ]
  },
  {
   "cell_type": "markdown",
   "id": "356a1e55",
   "metadata": {},
   "source": [
    "## I. SRU-Abfrage und Datengrundlage"
   ]
  },
  {
   "cell_type": "markdown",
   "id": "3f6bda60",
   "metadata": {},
   "source": [
    "### 1. Import der benötigen Module\n",
    "\n",
    "Für die SRU-Abfrage sowie die nachfolgende Datenbereinigung und -visualisierung werden mehrere Bibliotheken benötigt. Sie sind alle standardmäßig in Anaconda enthalten (Stand Sommer 2024). Für die Visualisierung wird Plotly genutzt."
   ]
  },
  {
   "cell_type": "code",
   "execution_count": 1,
   "id": "c7d72903",
   "metadata": {},
   "outputs": [],
   "source": [
    "import requests\n",
    "import unicodedata\n",
    "import ast\n",
    "import re\n",
    "import pandas as pd\n",
    "import plotly.express as px\n",
    "import plotly.io as pio\n",
    "from lxml import etree"
   ]
  },
  {
   "cell_type": "markdown",
   "id": "faf6d514",
   "metadata": {},
   "source": [
    "### 2. Schnittstellenabfrage\n",
    "\n",
    "Die SRU-Schnittstelle kann direkt über die Browserzeile angesprochen werden. Die folgende Funktion basiert auf der SRU-Abfrage des [DNBLab](https://github.com/deutsche-nationalbibliothek/dnblab) und kreiert den dafür benötigten Suchstring:"
   ]
  },
  {
   "cell_type": "code",
   "execution_count": 2,
   "id": "44d421c3",
   "metadata": {},
   "outputs": [],
   "source": [
    "def vd17_sru(query):    \n",
    "    base_url = \"http://sru.k10plus.de/vd17\" # Für VD18: http://sru.k10plus.de/vd18\n",
    "    parameters = {\n",
    "        \"recordSchema\": \"marcxml\",\n",
    "        \"operation\": \"searchRetrieve\",\n",
    "        \"version\": \"2.0\",\n",
    "        \"maximumRecords\": \"100\",\n",
    "        \"query\": query\n",
    "    }\n",
    "    \n",
    "    session = requests.Session()\n",
    "    records = []\n",
    "    start_record = 1\n",
    "    first_request = True\n",
    "    \n",
    "    while True:\n",
    "        parameters[\"startRecord\"] = start_record\n",
    "        response = session.get(base_url, params=parameters)\n",
    "        if first_request:\n",
    "            print(response.url)\n",
    "            first_request = False\n",
    "            \n",
    "        if response.status_code != 200:\n",
    "            print(f\"Error fetching data: {response.status_code}\")\n",
    "            break\n",
    "        \n",
    "        xml_root = etree.fromstring(response.content)\n",
    "        \n",
    "        new_records = xml_root.findall('.//zs:record', namespaces={\"zs\": \"http://docs.oasis-open.org/ns/search-ws/sruResponse\"})\n",
    "        \n",
    "        for record in new_records:\n",
    "            record_data = record.find('zs:recordData', namespaces={\"zs\": \"http://docs.oasis-open.org/ns/search-ws/sruResponse\"})\n",
    "            if record_data is not None:\n",
    "                marc_record = record_data.find('record', namespaces={\"\": \"http://www.loc.gov/MARC21/slim\"})\n",
    "                if marc_record is not None:\n",
    "                    records.append(etree.tostring(marc_record, encoding='unicode'))\n",
    "        \n",
    "        if len(new_records) < 100:\n",
    "            break\n",
    "        \n",
    "        start_record += 100\n",
    "    \n",
    "    return records"
   ]
  },
  {
   "cell_type": "markdown",
   "id": "29a6dcdc",
   "metadata": {},
   "source": [
    "Die Daten werden über `\"recordSchema\": \"marcxml\"` im Format MARC21-XML abgefragt. \n",
    "Es können maximal 100 Treffer auf einmal abgefragt werden. Die `while True`-Schleife sorgt dafür, dass alle Datensätze erfasst werden, indem der Paramter `startRecord` so lange wie nötig um 100 erweitert wird.\n",
    "\n",
    "Anders als die MARC21-Datensätze aus anderen Bibliothekskatalogen (DNB, K10plus) besitzt die Struktur der VD17-MARC21 den zusätzlichen Namespace `zs`, der über die Schleife `for record in new_records:` aufgelöst wird."
   ]
  },
  {
   "cell_type": "markdown",
   "id": "6955e377",
   "metadata": {},
   "source": [
    "### 3. Feldabfrage\n",
    "\n",
    "Die folgende Funktion ruft die Daten aus den benötigten Feldern auf. In diesem Beispiel werden die Datan für die IDN, die VD-Nummer, der Verfasser, Titel, Erscheinungsort, Erscheinungsjahr, Sprache und die besitzende Einrichtung erfasst:"
   ]
  },
  {
   "cell_type": "code",
   "execution_count": 3,
   "id": "b8dbd86e",
   "metadata": {},
   "outputs": [],
   "source": [
    "def parse_record(record):    \n",
    "    namespaces = {\n",
    "        \"marc\": \"http://www.loc.gov/MARC21/slim\"\n",
    "    }\n",
    "    xml = etree.fromstring(unicodedata.normalize(\"NFC\", record))\n",
    "    \n",
    "    def get_single_text(xpath_expr):\n",
    "        try:\n",
    "            return xml.xpath(xpath_expr, namespaces=namespaces)[0].text\n",
    "        except IndexError:\n",
    "            return \"N.N.\"\n",
    "    \n",
    "    def get_multiple_texts(xpath_expr):\n",
    "        return [elem.text for elem in xml.xpath(xpath_expr, namespaces=namespaces)] or [\"N.N.\"]\n",
    "    \n",
    "    meta_dict = {\n",
    "        \"VD-Nummer\": get_single_text(\"//marc:datafield[@tag='024']/marc:subfield[@code='a']\"),\n",
    "        \"Verfasser\": get_single_text(\"//marc:datafield[@tag='100']/marc:subfield[@code='a']\"),\n",
    "        \"Titel\": get_single_text(\"//marc:datafield[@tag='245']/marc:subfield[@code='a']\"),\n",
    "        \"Erscheinungsort\": get_multiple_texts(\"//marc:datafield[@tag='264']/marc:subfield[@code='a']\"),\n",
    "        \"Erscheinungsjahr\": get_single_text(\"//marc:datafield[@tag='264']/marc:subfield[@code='c']\"),\n",
    "        \"Sprache\": get_multiple_texts(\"//marc:datafield[@tag='041']/marc:subfield[@code='a']\"),\n",
    "        \"Einrichtung\": get_multiple_texts(\"//marc:datafield[@tag='924']/marc:subfield[@code='b']\")\n",
    "    }\n",
    "    \n",
    "    return meta_dict"
   ]
  },
  {
   "cell_type": "markdown",
   "id": "ccbc6a18",
   "metadata": {},
   "source": [
    "MARC21 besteht aus Controlfields, Datafields, die in Subfields unterteilt sein können. Die Verfasserangabe befindet sich beispielsweise im `datafield[@tag='100']` und dort im `subfield[@code='a']`. Welche Felder abgefragt werden sollen, kann beliebig angepasst werden. Es empfiehlt sich ein Blick in die XML-Datei.\n",
    "\n",
    "Manche Felder sind wiederholbar, etwa wenn ein Werk in mehreren Orten veröffentlich worden ist. Um alle Orte zu erhalten, sind innerhalb der Funktion mit `get_single_text`und `get_multiple_texts` zwei Funktionen definiert, die entweder nur das erste (und im besten Falle einzige) Element aus dem Datensatz ziehen oder sämtliche Datensätze als Liste. \n",
    "Vorsicht, die Listen sind nicht verschachtelt! Sollte eine Liste `['Jena', '[Leipzig]', 'Dresden']` aussehen, dann bedeutet das, dass Leipzig als Veröffentlichungsort ermittelt worden ist und deswegen in Klammern steht. Diese Klammern sind Teil des Strings."
   ]
  },
  {
   "cell_type": "markdown",
   "id": "b7a3a2ec",
   "metadata": {},
   "source": [
    "### 4. Umwandlung in DataFrame\n",
    "\n",
    "In diesem Tutorial wird mit Pandas DataFrame gearbeitet. Geplant ist, diese in Zukunft durch Polars DataFrames zu ersetzen, die effizienter und schneller sind. Das wird aller Voraussicht nach zuerst in der [Script-Version](https://github.com/F-Quaasdorf/VD17sru) umgesetzt werden."
   ]
  },
  {
   "cell_type": "code",
   "execution_count": 4,
   "id": "2a58e30c",
   "metadata": {},
   "outputs": [],
   "source": [
    "def to_df(records):    \n",
    "    return pd.DataFrame(records)"
   ]
  },
  {
   "cell_type": "markdown",
   "id": "9cd94eae",
   "metadata": {},
   "source": [
    "Diese Funktion macht nichts anderes als die Ergebnisse aus den beiden bisherigen Funktionen in ein DataFrame umzuwandeln."
   ]
  },
  {
   "cell_type": "markdown",
   "id": "c8b553f8",
   "metadata": {},
   "source": [
    "### 5. Ausführung und Datengrundlage\n",
    "\n",
    "Die Abfrage kann durchgeführt werden. Für die Abfrage aus dem VD17 werden die Suchbegriffe nach PICA genommen:\n",
    "- `pica.tit` für den Titel\n",
    "- `pica.jah` für Jahresangaben\n",
    "- `pica.per` für Personen\n",
    "- `pica.vlo` für Ortsangaben\n",
    "\n",
    "Im folgenden Beispiel werden Werke mit dem Titel \"de statu imperii\" gesucht, das DataFrame angezeigt und als CSV gespeichert."
   ]
  },
  {
   "cell_type": "code",
   "execution_count": 5,
   "id": "7fcce082",
   "metadata": {},
   "outputs": [
    {
     "name": "stdout",
     "output_type": "stream",
     "text": [
      "http://sru.k10plus.de/vd17?recordSchema=marcxml&operation=searchRetrieve&version=2.0&maximumRecords=100&query=pica.tit%3Dreich&startRecord=1\n"
     ]
    }
   ],
   "source": [
    "records = vd17_sru(\"pica.tit=reich\")"
   ]
  },
  {
   "cell_type": "code",
   "execution_count": 6,
   "id": "aa25b785",
   "metadata": {},
   "outputs": [],
   "source": [
    "parsed_records = [parse_record(record) for record in records]\n",
    "df = to_df(parsed_records)"
   ]
  },
  {
   "cell_type": "code",
   "execution_count": 7,
   "id": "dd56ccc4",
   "metadata": {},
   "outputs": [
    {
     "data": {
      "text/html": [
       "<div>\n",
       "<style scoped>\n",
       "    .dataframe tbody tr th:only-of-type {\n",
       "        vertical-align: middle;\n",
       "    }\n",
       "\n",
       "    .dataframe tbody tr th {\n",
       "        vertical-align: top;\n",
       "    }\n",
       "\n",
       "    .dataframe thead th {\n",
       "        text-align: right;\n",
       "    }\n",
       "</style>\n",
       "<table border=\"1\" class=\"dataframe\">\n",
       "  <thead>\n",
       "    <tr style=\"text-align: right;\">\n",
       "      <th></th>\n",
       "      <th>VD-Nummer</th>\n",
       "      <th>Verfasser</th>\n",
       "      <th>Titel</th>\n",
       "      <th>Erscheinungsort</th>\n",
       "      <th>Erscheinungsjahr</th>\n",
       "      <th>Sprache</th>\n",
       "      <th>Einrichtung</th>\n",
       "    </tr>\n",
       "  </thead>\n",
       "  <tbody>\n",
       "    <tr>\n",
       "      <th>0</th>\n",
       "      <td>12:747849D</td>\n",
       "      <td>N.N.</td>\n",
       "      <td>Continuation Oder Fortsetzung der curieusen St...</td>\n",
       "      <td>[Cölln]</td>\n",
       "      <td>1700</td>\n",
       "      <td>[ger]</td>\n",
       "      <td>[N.N.]</td>\n",
       "    </tr>\n",
       "    <tr>\n",
       "      <th>1</th>\n",
       "      <td>3:743811F</td>\n",
       "      <td>N.N.</td>\n",
       "      <td>Kurtze auß denen heylsamen Reichs-Satzungen/ u...</td>\n",
       "      <td>[[S.l.]]</td>\n",
       "      <td>[ca. 1700]</td>\n",
       "      <td>[ger]</td>\n",
       "      <td>[DE-3]</td>\n",
       "    </tr>\n",
       "    <tr>\n",
       "      <th>2</th>\n",
       "      <td>5002:735519F</td>\n",
       "      <td>Lichtscheid, Ferdinand Helffreich</td>\n",
       "      <td>Die reine Absicht auf die Seeligkeit/ aus Vera...</td>\n",
       "      <td>[Zeitz]</td>\n",
       "      <td>[ca. 1700]</td>\n",
       "      <td>[ger]</td>\n",
       "      <td>[DE-547, DE-Ha32]</td>\n",
       "    </tr>\n",
       "    <tr>\n",
       "      <th>3</th>\n",
       "      <td>12:733488E</td>\n",
       "      <td>N.N.</td>\n",
       "      <td>Monatlicher Staats-Spiegel</td>\n",
       "      <td>[Augspurg]</td>\n",
       "      <td>1700</td>\n",
       "      <td>[ger]</td>\n",
       "      <td>[N.N.]</td>\n",
       "    </tr>\n",
       "    <tr>\n",
       "      <th>4</th>\n",
       "      <td>12:733455N</td>\n",
       "      <td>N.N.</td>\n",
       "      <td>Monatlicher Staats-Spiegel</td>\n",
       "      <td>[Augspurg]</td>\n",
       "      <td>1700</td>\n",
       "      <td>[ger]</td>\n",
       "      <td>[N.N.]</td>\n",
       "    </tr>\n",
       "    <tr>\n",
       "      <th>...</th>\n",
       "      <td>...</td>\n",
       "      <td>...</td>\n",
       "      <td>...</td>\n",
       "      <td>...</td>\n",
       "      <td>...</td>\n",
       "      <td>...</td>\n",
       "      <td>...</td>\n",
       "    </tr>\n",
       "    <tr>\n",
       "      <th>2136</th>\n",
       "      <td>3:300733U</td>\n",
       "      <td>Knaust, Heinrich</td>\n",
       "      <td>Feuwerzeugk Gerichtlicher Ordnunge Proceß unnd...</td>\n",
       "      <td>[Franckfort am Mayn]</td>\n",
       "      <td>1601</td>\n",
       "      <td>[ger]</td>\n",
       "      <td>[DE-23, DE-3]</td>\n",
       "    </tr>\n",
       "    <tr>\n",
       "      <th>2137</th>\n",
       "      <td>23:279150M</td>\n",
       "      <td>N.N.</td>\n",
       "      <td>Ottomannus Theologicus</td>\n",
       "      <td>[Eißleben]</td>\n",
       "      <td>1601</td>\n",
       "      <td>[ger]</td>\n",
       "      <td>[DE-1a, DE-23, DE-23, DE-Ha32]</td>\n",
       "    </tr>\n",
       "    <tr>\n",
       "      <th>2138</th>\n",
       "      <td>VD16 K 222</td>\n",
       "      <td>Fickler, Johann Baptist</td>\n",
       "      <td>Klagschrifft Uber den Hochschädlichen Verlust ...</td>\n",
       "      <td>[München]</td>\n",
       "      <td>1615 [i.e. 1595]</td>\n",
       "      <td>[ger]</td>\n",
       "      <td>[DE-547, DE-3]</td>\n",
       "    </tr>\n",
       "    <tr>\n",
       "      <th>2139</th>\n",
       "      <td>VD16 K 222</td>\n",
       "      <td>Fickler, Johann Baptist</td>\n",
       "      <td>Klagschrifft Uber den Hochschädlichen Verlust ...</td>\n",
       "      <td>[München]</td>\n",
       "      <td>1615 [i.e. 1595]</td>\n",
       "      <td>[ger]</td>\n",
       "      <td>[N.N.]</td>\n",
       "    </tr>\n",
       "    <tr>\n",
       "      <th>2140</th>\n",
       "      <td>VD16 K 222</td>\n",
       "      <td>Fickler, Johann Baptist</td>\n",
       "      <td>Klagschrifft Uber den Hochschädlichen Verlust ...</td>\n",
       "      <td>[München]</td>\n",
       "      <td>1615 [i.e. 1595]</td>\n",
       "      <td>[ger]</td>\n",
       "      <td>[N.N.]</td>\n",
       "    </tr>\n",
       "  </tbody>\n",
       "</table>\n",
       "<p>2141 rows × 7 columns</p>\n",
       "</div>"
      ],
      "text/plain": [
       "         VD-Nummer                          Verfasser  \\\n",
       "0       12:747849D                               N.N.   \n",
       "1        3:743811F                               N.N.   \n",
       "2     5002:735519F  Lichtscheid, Ferdinand Helffreich   \n",
       "3       12:733488E                               N.N.   \n",
       "4       12:733455N                               N.N.   \n",
       "...            ...                                ...   \n",
       "2136     3:300733U                   Knaust, Heinrich   \n",
       "2137    23:279150M                               N.N.   \n",
       "2138    VD16 K 222            Fickler, Johann Baptist   \n",
       "2139    VD16 K 222            Fickler, Johann Baptist   \n",
       "2140    VD16 K 222            Fickler, Johann Baptist   \n",
       "\n",
       "                                                  Titel       Erscheinungsort  \\\n",
       "0     Continuation Oder Fortsetzung der curieusen St...               [Cölln]   \n",
       "1     Kurtze auß denen heylsamen Reichs-Satzungen/ u...              [[S.l.]]   \n",
       "2     Die reine Absicht auf die Seeligkeit/ aus Vera...               [Zeitz]   \n",
       "3                            Monatlicher Staats-Spiegel            [Augspurg]   \n",
       "4                            Monatlicher Staats-Spiegel            [Augspurg]   \n",
       "...                                                 ...                   ...   \n",
       "2136  Feuwerzeugk Gerichtlicher Ordnunge Proceß unnd...  [Franckfort am Mayn]   \n",
       "2137                             Ottomannus Theologicus            [Eißleben]   \n",
       "2138  Klagschrifft Uber den Hochschädlichen Verlust ...             [München]   \n",
       "2139  Klagschrifft Uber den Hochschädlichen Verlust ...             [München]   \n",
       "2140  Klagschrifft Uber den Hochschädlichen Verlust ...             [München]   \n",
       "\n",
       "      Erscheinungsjahr Sprache                     Einrichtung  \n",
       "0                 1700   [ger]                          [N.N.]  \n",
       "1           [ca. 1700]   [ger]                          [DE-3]  \n",
       "2           [ca. 1700]   [ger]               [DE-547, DE-Ha32]  \n",
       "3                 1700   [ger]                          [N.N.]  \n",
       "4                 1700   [ger]                          [N.N.]  \n",
       "...                ...     ...                             ...  \n",
       "2136              1601   [ger]                   [DE-23, DE-3]  \n",
       "2137              1601   [ger]  [DE-1a, DE-23, DE-23, DE-Ha32]  \n",
       "2138  1615 [i.e. 1595]   [ger]                  [DE-547, DE-3]  \n",
       "2139  1615 [i.e. 1595]   [ger]                          [N.N.]  \n",
       "2140  1615 [i.e. 1595]   [ger]                          [N.N.]  \n",
       "\n",
       "[2141 rows x 7 columns]"
      ]
     },
     "execution_count": 7,
     "metadata": {},
     "output_type": "execute_result"
    }
   ],
   "source": [
    "pd.set_option('display.max_columns', None) # Wenn der Befehl 'print(df)' verwendet wird, werden so alle Spalten angezeigt.\n",
    "df"
   ]
  },
  {
   "cell_type": "code",
   "execution_count": null,
   "id": "0689dbfb",
   "metadata": {},
   "outputs": [],
   "source": [
    "df.to_csv(\"DataFrame.csv\", encoding=\"utf-8\")"
   ]
  },
  {
   "cell_type": "markdown",
   "id": "eef85a93",
   "metadata": {},
   "source": [
    "## II. Visualisierung der Daten"
   ]
  },
  {
   "cell_type": "markdown",
   "id": "1f2d16b7",
   "metadata": {},
   "source": [
    "### 1. Hilfsfunktion zur Konversion der Jahresangaben\n",
    "\n",
    "Die Jahresangaben im VD17 sind gemäß der Angabe auf dem Werk eingetragen worden, sodass für eine Jahresabfrage neben vierstelligen Zahlen auch mit römischen Zahlen - hier auch irreguläre Angaben wie \"IIII\" statt \"IV\" - oder Versatzstücken wie \"Im Jahre 1623\" bzw. \"Im Jahre MDCXXIII\" umgegangen werden muss. "
   ]
  },
  {
   "cell_type": "code",
   "execution_count": null,
   "id": "f4bc1ef2",
   "metadata": {},
   "outputs": [],
   "source": [
    "def convert_year(value):\n",
    "    def convert_roman(roman):\n",
    "        roman_values = {\"I\": 1, \"V\": 5, \"X\": 10, \"L\": 50, \"C\": 100, \"D\": 500, \"M\": 1000}\n",
    "        \n",
    "        total = 0\n",
    "        prev_value = 0\n",
    "        \n",
    "        for char in reversed(roman):\n",
    "            value = roman_values.get(char, 0)\n",
    "            if value < prev_value:\n",
    "                total -= value\n",
    "            else:\n",
    "                total += value\n",
    "            prev_value = value\n",
    "        \n",
    "        return str(total)\n",
    "\n",
    "    # Define a helper function to check if a string is a valid Roman numeral\n",
    "    def is_roman_numeral(s):        \n",
    "        # Matches valid and irregular Roman numerals, e.g. 'IIII' instead of 'IV'\n",
    "        pattern = '^M{0,4}(CM|CD|D?C{0,3})(XC|XL|L?X{0,4})(IX|IV|V?I{0,4})$'\n",
    "        \n",
    "        return bool(re.match(pattern, s))\n",
    "    \n",
    "    original_value = value  # Keep the original value for debugging\n",
    "    \n",
    "    # Extract the first part if it contains additional information in brackets\n",
    "    if \"[\" in value:\n",
    "        match = re.search(r'\\d{4}', value)\n",
    "        if match:\n",
    "            value = match.group(0)\n",
    "        else:\n",
    "            value = value.split(\"[\")[0].strip()\n",
    "    elif \"-\" in value:\n",
    "        value = value.split(\"-\")[0].strip()\n",
    "    \n",
    "    # Remove common non-Roman numeral prefixes\n",
    "    value = re.sub(r'Im|Christi|De|Dato|Iahr|Den|Das', '', value, flags=re.IGNORECASE).strip()\n",
    "    clean_value = \"\"\n",
    "    \n",
    "    match = re.search(r'\\d{4}', value)\n",
    "    if match:\n",
    "        result = match.group(0)\n",
    "    elif not value.isdigit():\n",
    "        # Remove non-digit and non-Roman numeral characters\n",
    "        clean_value = re.sub(r'[^IVXLCDM0-9]', '', value)\n",
    "        if is_roman_numeral(clean_value):\n",
    "            result = convert_roman(clean_value)\n",
    "        else:\n",
    "            result = value\n",
    "    \n",
    "    # Debugging output\n",
    "    if result == '0':\n",
    "        print(f\"Debug: original_value='{original_value}', clean_value='{clean_value}', result='{result}'\")\n",
    "    \n",
    "    return result"
   ]
  },
  {
   "cell_type": "markdown",
   "id": "a4dd5bf1",
   "metadata": {},
   "source": [
    "Die Funktion `convert_roman` wandelt sämtliche römischen Zahlen um. Über `is_roman_numeral` werden Jahres- und römische Zahlen extrahiert und normalisiert. Bei Zeitspannen wird stets die erste Zahl genommen. Die Funktion deckt fast alle möglichen Fälle ab. Ausnahmen werden im Original angezeigt und können über den Debug-output ermittelt werden."
   ]
  },
  {
   "cell_type": "markdown",
   "id": "22dae890",
   "metadata": {},
   "source": [
    "### 2. Visualisierung zu den haltenden Einrichtungen\n",
    "\n",
    "Diese Funktion sortiert die die Treffer nach Einrichtungen und zeigt, welche Institution wie viele Exemplare besitzt, die über die SRU-Abfrage gefunden wurden. Die Einrichtungen sind mit ihrem [Sigel](https://sigel.staatsbibliothek-berlin.de/startseite) angegeben. \n",
    "\n",
    "Die Einrichtungen liegen pro Werk als Liste vor, da jedes Werk in mehreren Institutionen vorhanden sein kann. Die Funktion löst sntprechend diese Listen nach den Elementen auf, gruppiert sie und gibt die Anzahl der Einrichtungen wieder aus."
   ]
  },
  {
   "cell_type": "code",
   "execution_count": null,
   "id": "ac9ae88d",
   "metadata": {},
   "outputs": [],
   "source": [
    "def location_graph(df):\n",
    "    library_codes = df[\"Einrichtung\"]\n",
    "    \n",
    "    library_list = []\n",
    "    \n",
    "    for element in library_codes:        \n",
    "        if not isinstance(element, list):\n",
    "            try:\n",
    "                element = ast.literal_eval(element)\n",
    "            except (ValueError, SyntaxError):\n",
    "                continue\n",
    "        for library in element:\n",
    "            library_list.append(library)\n",
    "    \n",
    "    library_counts = pd.Series(library_list).value_counts()\n",
    "    \n",
    "    fig_loc = px.bar(library_counts, x=library_counts.index, y=library_counts.values,\n",
    "                     labels={'x': 'Einrichtung', 'y': 'Anzahl'}, title='Anzahl der Werke nach Einrichtungen')\n",
    "    \n",
    "    return fig_loc"
   ]
  },
  {
   "cell_type": "markdown",
   "id": "2d4d1dc2",
   "metadata": {},
   "source": [
    "Die `for`-Schleife sorgt dafür, dass falls die Elemente der Spalte `df[\"Einrichtungen\"]` nur als Strings und nicht als Liste vorliegen, sie trotzdem als solche behandelt werden, um die einzelnen Elemente zu erhalten. "
   ]
  },
  {
   "cell_type": "code",
   "execution_count": null,
   "id": "0bea6033",
   "metadata": {},
   "outputs": [],
   "source": [
    "fig_loc = location_graph(df)\n",
    "fig_loc.show()"
   ]
  },
  {
   "cell_type": "markdown",
   "id": "6a11bc0a",
   "metadata": {},
   "source": [
    "### 3. Visualisierung zu den Erscheinungsjahren\n",
    "\n",
    "Hier werden die vorhandenen Treffer nach Erscheinungsjahren gruppiert und angezeigt."
   ]
  },
  {
   "cell_type": "code",
   "execution_count": null,
   "id": "97eceee9",
   "metadata": {},
   "outputs": [],
   "source": [
    "def publication_date_graph(df):\n",
    "    dates = df[\"Erscheinungsjahr\"].apply(convert_year)\n",
    "    date_counts = dates.value_counts(dropna=False).sort_index()\n",
    "    \n",
    "    fig_dates = px.bar(date_counts, x=date_counts.index, y=date_counts.values,\n",
    "                       labels={'x': 'Erscheinungsjahr', 'y': 'Anzahl'},\n",
    "                       title='Anzahl der Werke nach Veröffentlichungsjahr')\n",
    "    \n",
    "    return fig_dates"
   ]
  },
  {
   "cell_type": "code",
   "execution_count": null,
   "id": "ae734199",
   "metadata": {},
   "outputs": [],
   "source": [
    "fig_dates = publication_date_graph(df)\n",
    "fig_dates.show()"
   ]
  },
  {
   "cell_type": "markdown",
   "id": "f7b79f9a",
   "metadata": {},
   "source": [
    "### 4. Visualisierung zu den Sprachen\n",
    "\n",
    "Dieses Säulendiagramm gibt die Verteilung der genutzten Sprachen innerhalb der Treffermenge an. Dabei werden *nur* die Sprachen und ihre Häufigkeit beachtet. Ist bei einer Publikation sowohl `lat` für Latein als auch `ger` für Deutsch eingetragen, wird sie sowohl für Latein als auch für Deutsch gezählt. "
   ]
  },
  {
   "cell_type": "code",
   "execution_count": null,
   "id": "898fb260",
   "metadata": {},
   "outputs": [],
   "source": [
    "def language_graph(df):\n",
    "    language_codes = df[\"Sprache\"]\n",
    "    language_list = []\n",
    "    \n",
    "    for element in language_codes:        \n",
    "        if not isinstance(element, list):\n",
    "            try:\n",
    "                element = ast.literal_eval(element)\n",
    "            except (ValueError, SyntaxError):\n",
    "                continue\n",
    "        for language in element:\n",
    "            language_list.append(language)\n",
    "    \n",
    "    language_counts = pd.Series(language_list).value_counts()\n",
    "    \n",
    "    fig_lang = px.bar(language_counts, x=language_counts.index, y=language_counts.values,\n",
    "                      labels={'x': 'Sprache', 'y': 'Count'},\n",
    "                      title='Anzahl der Werke nach Sprache')\n",
    "        \n",
    "    return fig_lang"
   ]
  },
  {
   "cell_type": "code",
   "execution_count": null,
   "id": "1d012968",
   "metadata": {},
   "outputs": [],
   "source": [
    "fig_lang = language_graph(df)\n",
    "fig_lang.show()"
   ]
  },
  {
   "cell_type": "markdown",
   "id": "010d8e64",
   "metadata": {},
   "source": [
    "### 5. Visualisierung zu den Sprachen nach Erschinungsjahren\n",
    "\n",
    "Hier wird das Vorkommen der Sprachen aus der Treffermenge im Laufe der Zeit angegeben."
   ]
  },
  {
   "cell_type": "code",
   "execution_count": null,
   "id": "627db1b0",
   "metadata": {},
   "outputs": [],
   "source": [
    "def language_year_graph(df):\n",
    "    df['Cleaned_Year'] = df['Erscheinungsjahr'].apply(convert_year)\n",
    "        \n",
    "    df_exploded = df.explode('Sprache')    \n",
    "    language_year_counts = df_exploded.groupby(['Cleaned_Year', 'Sprache']).size().reset_index(name='Count')\n",
    "\n",
    "    fig_lang_year = px.line(language_year_counts, x='Cleaned_Year', y='Count', color='Sprache',\n",
    "                            labels={'Cleaned_Year': 'Erscheinungsjahr', 'Count': 'Anzahl', 'Sprache': 'Sprache'},\n",
    "                            title='Anzahl der verwendeten Sprachen über die Zeit')\n",
    "    \n",
    "    return fig_lang_year"
   ]
  },
  {
   "cell_type": "code",
   "execution_count": null,
   "id": "7899b8ec",
   "metadata": {},
   "outputs": [],
   "source": [
    "fig_lang_year = language_year_graph(df)\n",
    "fig_lang_year.show()"
   ]
  }
 ],
 "metadata": {
  "kernelspec": {
   "display_name": "Python 3 (ipykernel)",
   "language": "python",
   "name": "python3"
  },
  "language_info": {
   "codemirror_mode": {
    "name": "ipython",
    "version": 3
   },
   "file_extension": ".py",
   "mimetype": "text/x-python",
   "name": "python",
   "nbconvert_exporter": "python",
   "pygments_lexer": "ipython3",
   "version": "3.11.5"
  }
 },
 "nbformat": 4,
 "nbformat_minor": 5
}
